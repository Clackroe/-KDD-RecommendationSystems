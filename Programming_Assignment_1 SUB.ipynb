{
  "nbformat": 4,
  "nbformat_minor": 0,
  "metadata": {
    "colab": {
      "provenance": []
    },
    "kernelspec": {
      "name": "python3",
      "display_name": "Python 3"
    },
    "language_info": {
      "name": "python"
    }
  },
  "cells": [
    {
      "cell_type": "markdown",
      "source": [
        "# ITCS 6162: Data Mining - Programming Assignment"
      ],
      "metadata": {
        "id": "Hr7SGYEq69wv"
      }
    },
    {
      "cell_type": "markdown",
      "source": [
        "**In this assignment, you will explore data analysis, recommendation algorithms, and graph-based techniques using the MovieLens dataset. Your tasks will range from basic data exploration to advanced recommendation models, including:**\n",
        "- Data manipulation with pandas\n",
        "- User-item collaborative filtering\n",
        "- Similarity-based recommendation models\n",
        "- A Pixie-inspired Graph-based recommendation using adjacency lists with weighted random walks (without using NetworkX)\n"
      ],
      "metadata": {
        "id": "L_idzFtE7M_9"
      }
    },
    {
      "cell_type": "markdown",
      "source": [
        "#### **Dataset Files:**\n",
        "- **`u.data`**: User-movie ratings (`user_id  movie_id  rating  timestamp`)\n",
        "- **`u.item`**: Movie metadata (`movie_id | title | release date | IMDB_website`)\n",
        "- **`u.user`**: User demographics (`user_id | age | gender | occupation | zip_code`)"
      ],
      "metadata": {
        "id": "EZxjOF_l79zc"
      }
    },
    {
      "cell_type": "markdown",
      "source": [
        "## **Part 1: Exploring and Cleaning Data**"
      ],
      "metadata": {
        "id": "ytr6isc2F9g6"
      }
    },
    {
      "cell_type": "markdown",
      "source": [
        "### Inspecting the Dataset Format\n",
        "\n",
        "The dataset is not in a traditional CSV format. To examine its structure, use the following shell command to display the first 10 lines of the file:\n",
        "\n",
        "```sh\n",
        "!head <file_name>\n"
      ],
      "metadata": {
        "id": "87kIrhTC9Ba1"
      }
    },
    {
      "cell_type": "markdown",
      "source": [
        "**In the cells given below. Write the code to read the files.**"
      ],
      "metadata": {
        "id": "PjOtbBWM9xWv"
      }
    },
    {
      "cell_type": "code",
      "source": [
        "# Please modify this to be the correct path if not using Google Drive (Uncomment if you need it)\n",
        "\n",
        "# from google.colab import drive\n",
        "# drive.mount('/content/drive')\n",
        "#\n",
        "# !head \"drive/MyDrive/ProgrammingAssignment1KDD/u.data\"\n",
        "#\n",
        "# !head \"drive/MyDrive/ProgrammingAssignment1KDD/u.item\"\n",
        "#\n",
        "# !head \"drive/MyDrive/ProgrammingAssignment1KDD/u.user\"\n"
      ],
      "metadata": {
        "colab": {
          "base_uri": "https://localhost:8080/"
        },
        "id": "dywHBgNdhxEL",
        "outputId": "8cf95b1f-042a-4d68-d480-3dafd2e3a1cd"
      },
      "execution_count": 1,
      "outputs": [
        {
          "output_type": "stream",
          "name": "stdout",
          "text": [
            "Mounted at /content/drive\n",
            "196\t242\t3\t881250949\n",
            "186\t302\t3\t891717742\n",
            "22\t377\t1\t878887116\n",
            "244\t51\t2\t880606923\n",
            "166\t346\t1\t886397596\n",
            "298\t474\t4\t884182806\n",
            "115\t265\t2\t881171488\n",
            "253\t465\t5\t891628467\n",
            "305\t451\t3\t886324817\n",
            "6\t86\t3\t883603013\n",
            "1|Toy Story (1995)|01-Jan-1995||http://us.imdb.com/M/title-exact?Toy%20Story%20(1995)|0|0|0|1|1|1|0|0|0|0|0|0|0|0|0|0|0|0|0\n",
            "2|GoldenEye (1995)|01-Jan-1995||http://us.imdb.com/M/title-exact?GoldenEye%20(1995)|0|1|1|0|0|0|0|0|0|0|0|0|0|0|0|0|1|0|0\n",
            "3|Four Rooms (1995)|01-Jan-1995||http://us.imdb.com/M/title-exact?Four%20Rooms%20(1995)|0|0|0|0|0|0|0|0|0|0|0|0|0|0|0|0|1|0|0\n",
            "4|Get Shorty (1995)|01-Jan-1995||http://us.imdb.com/M/title-exact?Get%20Shorty%20(1995)|0|1|0|0|0|1|0|0|1|0|0|0|0|0|0|0|0|0|0\n",
            "5|Copycat (1995)|01-Jan-1995||http://us.imdb.com/M/title-exact?Copycat%20(1995)|0|0|0|0|0|0|1|0|1|0|0|0|0|0|0|0|1|0|0\n",
            "6|Shanghai Triad (Yao a yao yao dao waipo qiao) (1995)|01-Jan-1995||http://us.imdb.com/Title?Yao+a+yao+yao+dao+waipo+qiao+(1995)|0|0|0|0|0|0|0|0|1|0|0|0|0|0|0|0|0|0|0\n",
            "7|Twelve Monkeys (1995)|01-Jan-1995||http://us.imdb.com/M/title-exact?Twelve%20Monkeys%20(1995)|0|0|0|0|0|0|0|0|1|0|0|0|0|0|0|1|0|0|0\n",
            "8|Babe (1995)|01-Jan-1995||http://us.imdb.com/M/title-exact?Babe%20(1995)|0|0|0|0|1|1|0|0|1|0|0|0|0|0|0|0|0|0|0\n",
            "9|Dead Man Walking (1995)|01-Jan-1995||http://us.imdb.com/M/title-exact?Dead%20Man%20Walking%20(1995)|0|0|0|0|0|0|0|0|1|0|0|0|0|0|0|0|0|0|0\n",
            "10|Richard III (1995)|22-Jan-1996||http://us.imdb.com/M/title-exact?Richard%20III%20(1995)|0|0|0|0|0|0|0|0|1|0|0|0|0|0|0|0|0|1|0\n",
            "1|24|M|technician|85711\n",
            "2|53|F|other|94043\n",
            "3|23|M|writer|32067\n",
            "4|24|M|technician|43537\n",
            "5|33|F|other|15213\n",
            "6|42|M|executive|98101\n",
            "7|57|M|administrator|91344\n",
            "8|36|M|administrator|05201\n",
            "9|29|M|student|01002\n",
            "10|53|M|lawyer|90703\n"
          ]
        }
      ]
    },
    {
      "cell_type": "code",
      "source": [
        "# Modify this path to be the path to data folder. (In the repository, it is ./data/)\n",
        "\n",
        "# ===============\n",
        "# PLEASE MODIFY\n",
        "# ===============\n",
        "\n",
        "#dataPath = \"./data/\"\n",
        "dataPath = \"drive/MyDrive/ProgrammingAssignment1KDD/\" # My experiments were done in google drive.\n",
        "\n",
        "dataFile = dataPath + \"u.data\"\n",
        "itemFile = dataPath + \"u.item\"\n",
        "userFile = dataPath + \"u.user\""
      ],
      "metadata": {
        "id": "LDbHx1ZWiZFd"
      },
      "execution_count": 80,
      "outputs": []
    },
    {
      "cell_type": "code",
      "execution_count": 3,
      "metadata": {
        "id": "XOoSaKsq68nD",
        "colab": {
          "base_uri": "https://localhost:8080/"
        },
        "outputId": "0eddc55d-f4d7-4f4e-b8d8-76a98c63eee4"
      },
      "outputs": [
        {
          "output_type": "stream",
          "name": "stdout",
          "text": [
            "196\t242\t3\t881250949\n",
            "186\t302\t3\t891717742\n",
            "22\t377\t1\t878887116\n",
            "244\t51\t2\t880606923\n",
            "166\t346\t1\t886397596\n",
            "298\t474\t4\t884182806\n",
            "115\t265\t2\t881171488\n",
            "253\t465\t5\t891628467\n",
            "305\t451\t3\t886324817\n",
            "6\t86\t3\t883603013\n",
            "62\t257\t2\t879372434\n",
            "286\t1014\t5\t879781125\n",
            "200\t222\t5\t876042340\n",
            "210\t40\t3\t891035994\n",
            "224\t29\t3\t888104457\n",
            "303\t785\t3\t879485318\n",
            "122\t387\t5\t879270459\n",
            "194\t274\t2\t879539794\n",
            "291\t1042\t4\t874834944\n",
            "234\t1184\t2\t892079237\n",
            "119\t392\t4\t886176814\n",
            "167\t486\t4\t892738452\n",
            "299\t144\t4\t877881320\n",
            "291\t118\t2\t874833878\n",
            "308\t1\t4\t887736532\n",
            "95\t546\t...\n"
          ]
        }
      ],
      "source": [
        "# u.data\n",
        "dataString = \"\"\n",
        "with open(dataFile, 'r') as file:\n",
        "  dataString = file.read()\n",
        "\n",
        "print(dataString[0:500] + \"...\")"
      ]
    },
    {
      "cell_type": "code",
      "source": [
        "# u.item\n",
        "itemString = \"\"\n",
        "with open(itemFile, 'r', encoding='latin-1') as file:\n",
        "  itemString = file.read()\n",
        "\n",
        "print(itemString[0:700] + \"...\")"
      ],
      "metadata": {
        "id": "dckMko0o9t-D",
        "colab": {
          "base_uri": "https://localhost:8080/"
        },
        "outputId": "02e4cc69-b0ae-4a2b-d37e-a04736bfd479"
      },
      "execution_count": 4,
      "outputs": [
        {
          "output_type": "stream",
          "name": "stdout",
          "text": [
            "1|Toy Story (1995)|01-Jan-1995||http://us.imdb.com/M/title-exact?Toy%20Story%20(1995)|0|0|0|1|1|1|0|0|0|0|0|0|0|0|0|0|0|0|0\n",
            "2|GoldenEye (1995)|01-Jan-1995||http://us.imdb.com/M/title-exact?GoldenEye%20(1995)|0|1|1|0|0|0|0|0|0|0|0|0|0|0|0|0|1|0|0\n",
            "3|Four Rooms (1995)|01-Jan-1995||http://us.imdb.com/M/title-exact?Four%20Rooms%20(1995)|0|0|0|0|0|0|0|0|0|0|0|0|0|0|0|0|1|0|0\n",
            "4|Get Shorty (1995)|01-Jan-1995||http://us.imdb.com/M/title-exact?Get%20Shorty%20(1995)|0|1|0|0|0|1|0|0|1|0|0|0|0|0|0|0|0|0|0\n",
            "5|Copycat (1995)|01-Jan-1995||http://us.imdb.com/M/title-exact?Copycat%20(1995)|0|0|0|0|0|0|1|0|1|0|0|0|0|0|0|0|1|0|0\n",
            "6|Shanghai Triad (Yao a yao yao dao waipo qiao) (1995)|01-Jan-1995||http://us.imdb.c...\n"
          ]
        }
      ]
    },
    {
      "cell_type": "code",
      "source": [
        "# u.user\n",
        "userString = \"\"\n",
        "with open(userFile, 'r') as file:\n",
        "  userString = file.read()\n",
        "\n",
        "print(userString[0:500] + \"...\")"
      ],
      "metadata": {
        "id": "R7kBwpsi-WKB",
        "colab": {
          "base_uri": "https://localhost:8080/"
        },
        "outputId": "1ab63852-ce39-4711-90de-bda09a723f34"
      },
      "execution_count": 5,
      "outputs": [
        {
          "output_type": "stream",
          "name": "stdout",
          "text": [
            "1|24|M|technician|85711\n",
            "2|53|F|other|94043\n",
            "3|23|M|writer|32067\n",
            "4|24|M|technician|43537\n",
            "5|33|F|other|15213\n",
            "6|42|M|executive|98101\n",
            "7|57|M|administrator|91344\n",
            "8|36|M|administrator|05201\n",
            "9|29|M|student|01002\n",
            "10|53|M|lawyer|90703\n",
            "11|39|F|other|30329\n",
            "12|28|F|other|06405\n",
            "13|47|M|educator|29206\n",
            "14|45|M|scientist|55106\n",
            "15|49|F|educator|97301\n",
            "16|21|M|entertainment|10309\n",
            "17|30|M|programmer|06355\n",
            "18|35|F|other|37212\n",
            "19|40|M|librarian|02138\n",
            "20|42|F|homemaker|95660\n",
            "21|26|M|writer|30068\n",
            "22|25|M|writer|40206\n",
            "23...\n"
          ]
        }
      ]
    },
    {
      "cell_type": "markdown",
      "source": [
        "#### Loading the Dataset with Pandas"
      ],
      "metadata": {
        "id": "YnryIHO7-db3"
      }
    },
    {
      "cell_type": "markdown",
      "source": [
        "Use **pandas** to load the dataset into a DataFrame for analysis. Follow these steps:  \n",
        "\n",
        "1. Import the necessary library: `pandas`.  \n",
        "2. Use `pd.read_csv()` (or an appropriate function) to read the dataset file.  \n",
        "3. Ensure the dataset is loaded with the correct delimiter (e.g., `','`, `'\\t'`,`'|'` , or another separator if needed).  \n",
        "4. Select and display the first few rows using `.head()`."
      ],
      "metadata": {
        "id": "Jwmza7riBj30"
      }
    },
    {
      "cell_type": "markdown",
      "source": [
        "Ensure that:  \n",
        "\n",
        "- The `ratings` dataset is read from `\"u.data\"` using tab (`'\\t'`) as a separator and column names (`\"user_id\"`, `\"movie_id\"`, `\"rating\"` and `\"timestamp\"`).  \n",
        "- The `movies` dataset is read from `\"u.item\"` using `'|'` as a separator, use columns (`0`, `1`, `2`), encoding (`\"latin-1\"`) and name the columns (`movie_id`, `title`, and `release_date`).  \n",
        "- The `users` dataset is read from `\"u.user\"` using `'|'` as a separator, use columns (`0`, `1`, `2`, `3`) and name the columns (`user_id`, `age`, `gender`, and `occupation`)."
      ],
      "metadata": {
        "id": "KPEDYYGOBOSD"
      }
    },
    {
      "cell_type": "code",
      "source": [
        "import pandas as pd\n",
        "# ratings\n",
        "ratings_data = pd.read_csv(dataFile, sep='\\t', names=[\"user_id\", \"movie_id\", \"rating\", \"timestamp\"])\n",
        "\n",
        "print(ratings_data)\n"
      ],
      "metadata": {
        "id": "Go-Y-Ofy-ZTk",
        "colab": {
          "base_uri": "https://localhost:8080/"
        },
        "outputId": "a8811a86-6025-40f3-9443-fda6d32a689d"
      },
      "execution_count": 6,
      "outputs": [
        {
          "output_type": "stream",
          "name": "stdout",
          "text": [
            "       user_id  movie_id  rating  timestamp\n",
            "0          196       242       3  881250949\n",
            "1          186       302       3  891717742\n",
            "2           22       377       1  878887116\n",
            "3          244        51       2  880606923\n",
            "4          166       346       1  886397596\n",
            "...        ...       ...     ...        ...\n",
            "99995      880       476       3  880175444\n",
            "99996      716       204       5  879795543\n",
            "99997      276      1090       1  874795795\n",
            "99998       13       225       2  882399156\n",
            "99999       12       203       3  879959583\n",
            "\n",
            "[100000 rows x 4 columns]\n"
          ]
        }
      ]
    },
    {
      "cell_type": "code",
      "source": [
        "# movies\n",
        "movies_data = pd.read_csv(itemFile, sep='|', encoding=\"latin-1\", usecols=[0, 1, 2], names=[\"movie_id\", \"title\", \"release_date\"])\n",
        "\n",
        "print(movies_data)"
      ],
      "metadata": {
        "id": "zM8IJGh-CLN5",
        "colab": {
          "base_uri": "https://localhost:8080/"
        },
        "outputId": "4a8b86dc-d79e-480c-896a-982a7c2beb5a"
      },
      "execution_count": 7,
      "outputs": [
        {
          "output_type": "stream",
          "name": "stdout",
          "text": [
            "      movie_id                                      title release_date\n",
            "0            1                           Toy Story (1995)  01-Jan-1995\n",
            "1            2                           GoldenEye (1995)  01-Jan-1995\n",
            "2            3                          Four Rooms (1995)  01-Jan-1995\n",
            "3            4                          Get Shorty (1995)  01-Jan-1995\n",
            "4            5                             Copycat (1995)  01-Jan-1995\n",
            "...        ...                                        ...          ...\n",
            "1677      1678                          Mat' i syn (1997)  06-Feb-1998\n",
            "1678      1679                           B. Monkey (1998)  06-Feb-1998\n",
            "1679      1680                       Sliding Doors (1998)  01-Jan-1998\n",
            "1680      1681                        You So Crazy (1994)  01-Jan-1994\n",
            "1681      1682  Scream of Stone (Schrei aus Stein) (1991)  08-Mar-1996\n",
            "\n",
            "[1682 rows x 3 columns]\n"
          ]
        }
      ]
    },
    {
      "cell_type": "code",
      "source": [
        "# users\n",
        "users_data = pd.read_csv(userFile, sep='|', usecols=[0, 1, 2, 3], names=[\"user_id\", \"age\", \"gender\", \"occupation\"])\n",
        "\n",
        "print(users_data)"
      ],
      "metadata": {
        "id": "hsekVjevCNKj",
        "colab": {
          "base_uri": "https://localhost:8080/"
        },
        "outputId": "d0acad98-6b86-4517-c1f0-d017721e3149"
      },
      "execution_count": 8,
      "outputs": [
        {
          "output_type": "stream",
          "name": "stdout",
          "text": [
            "     user_id  age gender     occupation\n",
            "0          1   24      M     technician\n",
            "1          2   53      F          other\n",
            "2          3   23      M         writer\n",
            "3          4   24      M     technician\n",
            "4          5   33      F          other\n",
            "..       ...  ...    ...            ...\n",
            "938      939   26      F        student\n",
            "939      940   32      M  administrator\n",
            "940      941   20      M        student\n",
            "941      942   48      F      librarian\n",
            "942      943   22      M        student\n",
            "\n",
            "[943 rows x 4 columns]\n"
          ]
        }
      ]
    },
    {
      "cell_type": "markdown",
      "source": [
        "**Note:** As a **Bonus** task save the `ratings`, `movies` and `users` dataframe created into a `.csv` file format. <br>\n",
        "**Hint:** Use the `to_csv()` function in pandas to save these DataFrames as CSV files."
      ],
      "metadata": {
        "id": "jE5OHLqt7xeq"
      }
    },
    {
      "cell_type": "code",
      "source": [
        "\n",
        "ratings_csv = dataPath + \"ratings.csv\"\n",
        "movies_csv = dataPath + \"movies.csv\"\n",
        "users_csv = dataPath + \"users.csv\"\n",
        "\n",
        "# ratings\n",
        "ratings_data.to_csv(ratings_csv, index=False)\n",
        "\n",
        "# movies\n",
        "movies_data.to_csv(movies_csv, index=False)\n",
        "\n",
        "# users\n",
        "users_data.to_csv(users_csv, index=False)\n"
      ],
      "metadata": {
        "id": "Chyv3c4n8wVC"
      },
      "execution_count": 9,
      "outputs": []
    },
    {
      "cell_type": "markdown",
      "source": [
        "**Display the first 10 rows of each file.**"
      ],
      "metadata": {
        "id": "s3S1y82cCYxx"
      }
    },
    {
      "cell_type": "code",
      "source": [
        "# ratings\n",
        "# !head \"drive/MyDrive/ProgrammingAssignment1KDD/ratings.csv\"\n",
        "\n"
      ],
      "metadata": {
        "id": "x5ZOXTqnCPgw",
        "colab": {
          "base_uri": "https://localhost:8080/"
        },
        "outputId": "bd89981b-0fb7-466f-f4d5-9097c6cea2b2"
      },
      "execution_count": 10,
      "outputs": [
        {
          "output_type": "stream",
          "name": "stdout",
          "text": [
            "user_id,movie_id,rating,timestamp\n",
            "196,242,3,881250949\n",
            "186,302,3,891717742\n",
            "22,377,1,878887116\n",
            "244,51,2,880606923\n",
            "166,346,1,886397596\n",
            "298,474,4,884182806\n",
            "115,265,2,881171488\n",
            "253,465,5,891628467\n",
            "305,451,3,886324817\n"
          ]
        }
      ]
    },
    {
      "cell_type": "code",
      "source": [
        "# movies\n",
        "\n",
        "# !head \"drive/MyDrive/ProgrammingAssignment1KDD/movies.csv\"\n"
      ],
      "metadata": {
        "id": "AzuqiRkrCdfZ",
        "colab": {
          "base_uri": "https://localhost:8080/"
        },
        "outputId": "7cc58997-40ac-45ae-83ec-0fb98107f0ef"
      },
      "execution_count": 11,
      "outputs": [
        {
          "output_type": "stream",
          "name": "stdout",
          "text": [
            "movie_id,title,release_date\n",
            "1,Toy Story (1995),01-Jan-1995\n",
            "2,GoldenEye (1995),01-Jan-1995\n",
            "3,Four Rooms (1995),01-Jan-1995\n",
            "4,Get Shorty (1995),01-Jan-1995\n",
            "5,Copycat (1995),01-Jan-1995\n",
            "6,Shanghai Triad (Yao a yao yao dao waipo qiao) (1995),01-Jan-1995\n",
            "7,Twelve Monkeys (1995),01-Jan-1995\n",
            "8,Babe (1995),01-Jan-1995\n",
            "9,Dead Man Walking (1995),01-Jan-1995\n"
          ]
        }
      ]
    },
    {
      "cell_type": "code",
      "source": [
        "# users\n",
        "\n",
        "\n",
        "# !head \"drive/MyDrive/ProgrammingAssignment1KDD/users.csv\""
      ],
      "metadata": {
        "id": "FE9hcM9mCewe",
        "colab": {
          "base_uri": "https://localhost:8080/"
        },
        "outputId": "dc75d853-098b-4b86-e58a-19784be55c22"
      },
      "execution_count": 12,
      "outputs": [
        {
          "output_type": "stream",
          "name": "stdout",
          "text": [
            "user_id,age,gender,occupation\n",
            "1,24,M,technician\n",
            "2,53,F,other\n",
            "3,23,M,writer\n",
            "4,24,M,technician\n",
            "5,33,F,other\n",
            "6,42,M,executive\n",
            "7,57,M,administrator\n",
            "8,36,M,administrator\n",
            "9,29,M,student\n"
          ]
        }
      ]
    },
    {
      "cell_type": "markdown",
      "source": [
        "### Data Cleaning and Exploration with Pandas  \n",
        "\n",
        "After loading the dataset, it’s important to clean and explore the data to ensure consistency and accuracy. Below are key **pandas** functions for cleaning and understanding the dataset.\n",
        "\n",
        "#### 1. Handle Missing Values  \n",
        "- `df.dropna()` – Removes rows with missing values.  \n",
        "- `df.fillna(value)` – Fills missing values with a specified value.  \n",
        "\n",
        "#### 2. Remove Duplicates  \n",
        "- `df.drop_duplicates()` – Drops duplicate rows from the dataset.  \n",
        "\n",
        "#### 3. Handle Incorrect Data Types  \n",
        "- `df.astype(dtype)` – Converts columns to the appropriate data type.  \n",
        "\n",
        "#### 4. Filter Outliers (if applicable)  \n",
        "- `df[df['column_name'] > threshold]` – Filters rows based on a condition.  \n",
        "\n",
        "#### 5. Rename Columns (if needed)  \n",
        "- `df.rename(columns={'old_name': 'new_name'})` – Renames columns for clarity.  \n",
        "\n",
        "#### 6. Reset Index  \n",
        "- `df.reset_index(drop=True, inplace=True)` – Resets the index after cleaning.  \n",
        "\n",
        "### Data Exploration Functions  \n",
        "\n",
        "To better understand the dataset, use these **pandas** functions:  \n",
        "\n",
        "- `df.shape` – Returns the number of rows and columns in the dataset.  \n",
        "- `df.nunique()` – Displays the number of unique values in each column.  \n",
        "- `df['column_name'].unique()` – Returns unique values in a specific column.  \n",
        "\n",
        "**Example Usage in Pandas:**  \n",
        "```python\n",
        "import pandas as pd\n",
        "\n",
        "# Load dataset\n",
        "df = pd.read_csv(\"your_file.csv\")\n",
        "\n",
        "# Drop missing values\n",
        "df_cleaned = df.dropna()\n",
        "\n",
        "# Remove duplicate rows\n",
        "df_cleaned = df_cleaned.drop_duplicates()\n",
        "\n",
        "# Convert 'timestamp' column to datetime format\n",
        "df_cleaned['timestamp'] = pd.to_datetime(df_cleaned['timestamp'])\n",
        "\n",
        "# Display dataset shape\n",
        "print(\"Dataset shape:\", df_cleaned.shape)\n",
        "\n",
        "# Display number of unique values in each column\n",
        "print(\"Unique values per column:\\n\", df_cleaned.nunique())\n",
        "\n",
        "# Display unique movie IDs\n",
        "print(\"Unique movie IDs:\", df_cleaned['movie_id'].unique()[:10])  # Show first 10 unique movie IDs\n"
      ],
      "metadata": {
        "id": "i38iDIz-DiVj"
      }
    },
    {
      "cell_type": "markdown",
      "source": [
        "**Note:** The functions mentioned above are some of the widely used **pandas** functions for data cleaning and exploration. However, it is not necessary that all of these functions will be required in the exercises below. Use them as needed based on the dataset and the specific tasks."
      ],
      "metadata": {
        "id": "4cwmLON4EItA"
      }
    },
    {
      "cell_type": "markdown",
      "source": [
        "**Convert Timestamps into Readable dates.**"
      ],
      "metadata": {
        "id": "Tn0bLOSACxMP"
      }
    },
    {
      "cell_type": "code",
      "source": [
        "# ratings\n",
        "dirty_ratings = pd.read_csv(ratings_csv)\n",
        "dirty_ratings['timestamp'] = pd.to_datetime(dirty_ratings['timestamp'], unit='s')\n",
        "dirty_ratings.reset_index(drop=True, inplace=True)\n",
        "print(dirty_ratings.head())\n"
      ],
      "metadata": {
        "id": "9MwnDxeeCf8b",
        "colab": {
          "base_uri": "https://localhost:8080/"
        },
        "outputId": "8d749ad6-eae9-41ac-c0ed-5be85a9cb161"
      },
      "execution_count": 13,
      "outputs": [
        {
          "output_type": "stream",
          "name": "stdout",
          "text": [
            "   user_id  movie_id  rating           timestamp\n",
            "0      196       242       3 1997-12-04 15:55:49\n",
            "1      186       302       3 1998-04-04 19:22:22\n",
            "2       22       377       1 1997-11-07 07:18:36\n",
            "3      244        51       2 1997-11-27 05:02:03\n",
            "4      166       346       1 1998-02-02 05:33:16\n"
          ]
        }
      ]
    },
    {
      "cell_type": "markdown",
      "source": [
        "**Check for Missing Values**"
      ],
      "metadata": {
        "id": "oKJB0a9CE0Z4"
      }
    },
    {
      "cell_type": "code",
      "source": [
        "# ratings\n",
        "clean_ratings = dirty_ratings.drop_duplicates()\n",
        "\n",
        "clean_ratings['user_id'].dropna()\n",
        "clean_ratings['movie_id'].dropna()\n",
        "clean_ratings = clean_ratings.fillna(0) # assume that a non-rating is 0.\n",
        "\n",
        "clean_ratings.reset_index(drop=True, inplace=True)\n",
        "\n",
        "\n",
        "print(clean_ratings.head())\n"
      ],
      "metadata": {
        "id": "iYf4NM47DL7q",
        "colab": {
          "base_uri": "https://localhost:8080/"
        },
        "outputId": "bee41506-a959-41e3-982b-5384292aa2d8"
      },
      "execution_count": 21,
      "outputs": [
        {
          "output_type": "stream",
          "name": "stdout",
          "text": [
            "   user_id  movie_id  rating           timestamp\n",
            "0      196       242       3 1997-12-04 15:55:49\n",
            "1      186       302       3 1998-04-04 19:22:22\n",
            "2       22       377       1 1997-11-07 07:18:36\n",
            "3      244        51       2 1997-11-27 05:02:03\n",
            "4      166       346       1 1998-02-02 05:33:16\n"
          ]
        }
      ]
    },
    {
      "cell_type": "code",
      "source": [
        "# movies\n",
        "dirty_movies = pd.read_csv(movies_csv)\n",
        "\n",
        "clean_movies = dirty_movies.drop_duplicates()\n",
        "clean_movies['movie_id'].dropna()\n",
        "clean_movies = clean_movies.fillna(0)\n",
        "clean_movies.reset_index(drop=True, inplace=True)\n",
        "\n",
        "\n",
        "print(clean_movies.head())\n",
        "\n",
        "\n"
      ],
      "metadata": {
        "id": "hgM78fNaFH2q",
        "colab": {
          "base_uri": "https://localhost:8080/"
        },
        "outputId": "ea0955ce-8ff3-4fd3-842b-e1a199b9349e"
      },
      "execution_count": 23,
      "outputs": [
        {
          "output_type": "stream",
          "name": "stdout",
          "text": [
            "   movie_id              title release_date\n",
            "0         1   Toy Story (1995)  01-Jan-1995\n",
            "1         2   GoldenEye (1995)  01-Jan-1995\n",
            "2         3  Four Rooms (1995)  01-Jan-1995\n",
            "3         4  Get Shorty (1995)  01-Jan-1995\n",
            "4         5     Copycat (1995)  01-Jan-1995\n"
          ]
        }
      ]
    },
    {
      "cell_type": "code",
      "source": [
        "# users\n",
        "dirty_users = pd.read_csv(users_csv)\n",
        "\n",
        "clean_users = dirty_users.drop_duplicates()\n",
        "clean_users['user_id'].dropna()\n",
        "clean_users.reset_index(drop=True, inplace=True)\n",
        "\n",
        "print(clean_users.head())\n"
      ],
      "metadata": {
        "id": "jE8J_cajFA5n",
        "colab": {
          "base_uri": "https://localhost:8080/"
        },
        "outputId": "0427e4fe-73c5-4557-f844-900e834d3de6"
      },
      "execution_count": 24,
      "outputs": [
        {
          "output_type": "stream",
          "name": "stdout",
          "text": [
            "   user_id  age gender  occupation\n",
            "0        1   24      M  technician\n",
            "1        2   53      F       other\n",
            "2        3   23      M      writer\n",
            "3        4   24      M  technician\n",
            "4        5   33      F       other\n"
          ]
        }
      ]
    },
    {
      "cell_type": "markdown",
      "source": [
        "**Print the total number of users, movies, and ratings.**"
      ],
      "metadata": {
        "id": "1WviFe7iFRoQ"
      }
    },
    {
      "cell_type": "code",
      "source": [
        "print(f\"Total Users: { clean_users.shape[0]}\")\n",
        "print(f\"Total Movies: {clean_movies.shape[0]}\")\n",
        "print(f\"Total Ratings: {clean_ratings.shape[0]}\")"
      ],
      "metadata": {
        "id": "eR_QgS9aFTPb",
        "colab": {
          "base_uri": "https://localhost:8080/"
        },
        "outputId": "69a2a4d4-3bff-4e39-9a74-94fed5506be8"
      },
      "execution_count": 26,
      "outputs": [
        {
          "output_type": "stream",
          "name": "stdout",
          "text": [
            "Total Users: 943\n",
            "Total Movies: 1682\n",
            "Total Ratings: 100000\n"
          ]
        }
      ]
    },
    {
      "cell_type": "markdown",
      "source": [
        "## **Part 2: Collaborative Filtering-Based Recommendation**"
      ],
      "metadata": {
        "id": "NjxACjUgFwsk"
      }
    },
    {
      "cell_type": "markdown",
      "source": [
        "### **Create a User-Item Matrix**"
      ],
      "metadata": {
        "id": "AyeSaLpRGYuC"
      }
    },
    {
      "cell_type": "markdown",
      "source": [
        "#### Instructions for Creating a User-Movie Rating Matrix"
      ],
      "metadata": {
        "id": "3tKsv-7XHRq2"
      }
    },
    {
      "cell_type": "markdown",
      "source": [
        "In this exercise, you will create a user-movie rating matrix using **pandas**. This matrix will represent the ratings that users have given to different movies.\n",
        "\n",
        "1. **Dataset Overview**:  \n",
        "   The dataset has already been loaded. It includes the following key columns:\n",
        "   - `user_id`: The ID of the user.\n",
        "   - `movie_id`: The ID of the movie.\n",
        "   - `ratings`: The rating the user gave to the movie.\n",
        "\n",
        "2. **Create the User-Movie Rating Matrix**:  \n",
        "   Use the **`pivot()`** function in **pandas** to reshape the data. Your goal is to create a matrix where:\n",
        "   - Each **row** represents a **user**.\n",
        "   - Each **column** represents a **movie**.\n",
        "   - Each **cell** contains the **rating** that the user has given to the movie.\n",
        "\n",
        "   Specify the following parameters for the `pivot()` function:\n",
        "   - **`index`**: The `user_id` column (this will define the rows).\n",
        "   - **`columns`**: The `movie_id` column (this will define the columns).\n",
        "   - **`values`**: The `rating` column (this will fill the matrix with ratings).\n",
        "\n",
        "3. **Inspect the Matrix**:  \n",
        "   After creating the matrix, examine the first few rows of the resulting matrix to ensure it has been constructed correctly.\n",
        "\n",
        "4. **Handle Missing Values**:  \n",
        "   It's likely that some users have not rated every movie, resulting in `NaN` values in the matrix. You will need to handle these missing values. Consider the following options:\n",
        "   - **Fill with 0**: If you wish to represent missing ratings as zeros (indicating no rating).\n",
        "   - **Fill with the average rating**: Alternatively, replace missing values with the average rating for each movie."
      ],
      "metadata": {
        "id": "lLayr0YbH4tB"
      }
    },
    {
      "cell_type": "markdown",
      "source": [
        "**Create the user-movie rating matrix using the `pivot()` function.**"
      ],
      "metadata": {
        "id": "E_cdPXYeaD-l"
      }
    },
    {
      "cell_type": "code",
      "source": [
        "\n",
        "userToMovieMatrix = clean_ratings.pivot( index='user_id', columns='movie_id', values='rating').fillna(0) # Again, non-ratings are 0\n",
        "\n"
      ],
      "metadata": {
        "id": "Ie858yKEUSfc"
      },
      "execution_count": 31,
      "outputs": []
    },
    {
      "cell_type": "markdown",
      "source": [
        "**Display the matrix to verify the transformation.**"
      ],
      "metadata": {
        "id": "tyb3h9FmaVGH"
      }
    },
    {
      "cell_type": "code",
      "source": [
        "print(userToMovieMatrix.head())\n",
        "\n",
        "print(f\"\\n\\nUser 22 Rating of 377: {userToMovieMatrix[377][22]}\") # User 22 rating for movie 377 : Should be 1.0\n"
      ],
      "metadata": {
        "id": "16abaOrXabN_",
        "colab": {
          "base_uri": "https://localhost:8080/"
        },
        "outputId": "74813e9b-36f8-4044-ec43-36e79338a36f"
      },
      "execution_count": 32,
      "outputs": [
        {
          "output_type": "stream",
          "name": "stdout",
          "text": [
            "movie_id  1     2     3     4     5     6     7     8     9     10    ...  \\\n",
            "user_id                                                               ...   \n",
            "1          5.0   3.0   4.0   3.0   3.0   5.0   4.0   1.0   5.0   3.0  ...   \n",
            "2          4.0   0.0   0.0   0.0   0.0   0.0   0.0   0.0   0.0   2.0  ...   \n",
            "3          0.0   0.0   0.0   0.0   0.0   0.0   0.0   0.0   0.0   0.0  ...   \n",
            "4          0.0   0.0   0.0   0.0   0.0   0.0   0.0   0.0   0.0   0.0  ...   \n",
            "5          4.0   3.0   0.0   0.0   0.0   0.0   0.0   0.0   0.0   0.0  ...   \n",
            "\n",
            "movie_id  1673  1674  1675  1676  1677  1678  1679  1680  1681  1682  \n",
            "user_id                                                               \n",
            "1          0.0   0.0   0.0   0.0   0.0   0.0   0.0   0.0   0.0   0.0  \n",
            "2          0.0   0.0   0.0   0.0   0.0   0.0   0.0   0.0   0.0   0.0  \n",
            "3          0.0   0.0   0.0   0.0   0.0   0.0   0.0   0.0   0.0   0.0  \n",
            "4          0.0   0.0   0.0   0.0   0.0   0.0   0.0   0.0   0.0   0.0  \n",
            "5          0.0   0.0   0.0   0.0   0.0   0.0   0.0   0.0   0.0   0.0  \n",
            "\n",
            "[5 rows x 1682 columns]\n",
            "\n",
            "\n",
            "User 22 Rating of 377: 1.0\n"
          ]
        }
      ]
    },
    {
      "cell_type": "markdown",
      "source": [
        "### **User-Based Collaborative Filtering Recommender System**"
      ],
      "metadata": {
        "id": "fOXp00QSbtHk"
      }
    },
    {
      "cell_type": "markdown",
      "source": [
        "#### **Objective**\n",
        "In this task, you will implement a **user-based collaborative filtering** movie recommendation system using the **Movie dataset**. The goal is to recommend movies to a user based on the preferences of similar users."
      ],
      "metadata": {
        "id": "FwKBZk5Sc7YA"
      }
    },
    {
      "cell_type": "markdown",
      "source": [
        "##### **Step 1: Import Required Libraries**\n",
        "Before starting, ensure you have the necessary libraries installed. Use the following imports:\n",
        "\n",
        "```python\n",
        "import pandas as pd  # For handling data\n",
        "import numpy as np   # For numerical computations\n",
        "from sklearn.metrics.pairwise import cosine_similarity  # For computing user similarity\n",
        "```"
      ],
      "metadata": {
        "id": "fZf-Nu2rdPHR"
      }
    },
    {
      "cell_type": "markdown",
      "source": [
        "##### **Step 2: Compute User-User Similarity**\n",
        "- We will use **cosine similarity** to measure how similar each pair of users is based on their movie ratings.\n",
        "- Since `cosine_similarity` does not handle missing values (NaN), replace them with `0` before computation."
      ],
      "metadata": {
        "id": "qzJNshMbdwyR"
      }
    },
    {
      "cell_type": "markdown",
      "source": [
        "##### **Instructions:**\n",
        "1. Fill missing values with `0` using `.fillna(0)`.\n",
        "2. Compute similarity using `cosine_similarity()`.\n",
        "3. Convert the result into a **Pandas DataFrame**, with users as both row and column labels.\n",
        "\n",
        "##### **Hint:**  \n",
        "You can achieve this using the following approach:\n",
        "\n",
        "```python\n",
        "user_similarity = cosine_similarity(user_movie_matrix.fillna(0))\n",
        "user_sim_df = pd.DataFrame(user_similarity, index=user_movie_matrix.index, columns=user_movie_matrix.index)\n",
        "```"
      ],
      "metadata": {
        "id": "pkO_XtPqd4Sw"
      }
    },
    {
      "cell_type": "markdown",
      "source": [
        "##### **Step 3: Implement the Recommendation Function**\n",
        "Now, implement the function `recommend_movies_for_user(user_id, num=5)` to recommend movies for a given user.\n",
        "\n",
        "##### **Function Inputs:**\n",
        "- `user_id`: The target user for whom we need recommendations.\n",
        "- `num`: The number of movies to recommend (default is 5).\n",
        "\n",
        "##### **Function Steps:**\n",
        "1. Find **similar users**:\n",
        "   - Retrieve the similarity scores for the given `user_id`.\n",
        "   - Sort them in **descending** order (highest similarity first).\n",
        "   - Exclude the user themselves.\n",
        "   \n",
        "2. Get the **movie ratings** from these similar users.\n",
        "\n",
        "3. Compute the **average rating** for each movie based on these users' preferences.\n",
        "\n",
        "4. Sort the movies in **descending order** based on the computed average ratings.\n",
        "\n",
        "5. Retrieve the **top `num` recommended movies**.\n",
        "\n",
        "6. Map **movie IDs** to their **titles** using the `movies` DataFrame.\n",
        "\n",
        "7. Return the results as a **Pandas DataFrame** with rankings."
      ],
      "metadata": {
        "id": "NtmluaSGeBE-"
      }
    },
    {
      "cell_type": "markdown",
      "source": [
        "##### **Step 4: Return the Final Recommendation List**\n",
        "Your function should return a **DataFrame** structured as follows:\n",
        "\n",
        "| Ranking | Movie Name |\n",
        "|---------|-----------|\n",
        "| 1       | Movie A   |\n",
        "| 2       | Movie B   |\n",
        "| 3       | Movie C   |\n",
        "| 4       | Movie D   |\n",
        "| 5       | Movie E   |\n",
        "\n",
        "##### **Hint:** Your final DataFrame should be created like this:\n",
        "```python\n",
        "result_df = pd.DataFrame({\n",
        "    'Ranking': range(1, num+1),\n",
        "    'Movie Name': movie_names     \n",
        "})\n",
        "result_df.set_index('Ranking', inplace=True)\n",
        "```\n",
        "\n",
        "#### **Example: User-Based Collaborative Filtering**\n",
        "```python\n",
        "recommend_movies_for_user(10, num = 5)\n",
        "```\n",
        "**Output:**\n",
        "```\n",
        "| Ranking | Movie Name                     |\n",
        "|---------|--------------------------------|\n",
        "| 1       | In the Company of Men (1997)   |\n",
        "| 2       | Misérables, Les (1995)         |\n",
        "| 3       | Thin Blue Line, The (1988)     |\n",
        "| 4       | Braindead (1992)               |\n",
        "| 5       | Boys, Les (1997)               |\n"
      ],
      "metadata": {
        "id": "SgO0zd8LeGJ_"
      }
    },
    {
      "cell_type": "code",
      "source": [
        "# Code the function here\n",
        "\n",
        "import pandas as pd  # For handling data\n",
        "import numpy as np   # For numerical computations\n",
        "from sklearn.metrics.pairwise import cosine_similarity\n",
        "\n",
        "userSimilarity = cosine_similarity(userToMovieMatrix.fillna(0))\n",
        "userSimilarityMtx = pd.DataFrame(userSimilarity, index=userToMovieMatrix.index, columns=userToMovieMatrix.index)\n",
        "\n",
        "\n",
        "def recommend_movies_for_user(userID, num):\n",
        "  similarUsers = userSimilarityMtx[userID].sort_values(ascending=False).drop(userID)\n",
        "  similarUsers = similarUsers[similarUsers > 0]\n",
        "  #print(similarUsers)\n",
        "  userRatings = userToMovieMatrix.loc[similarUsers.index]\n",
        "\n",
        "  #averageMovieRatings = userRatings.mean()\n",
        "\n",
        "  # Weighted mean (by similarity)\n",
        "  weightedRatings = userRatings.T.mul(similarUsers, axis=1)\n",
        "  sumWeights = similarUsers.sum()\n",
        "  weightedAverageRatings = weightedRatings.sum(axis=1) / sumWeights\n",
        "\n",
        "  # Don't want to recommend a movie that they have seen\n",
        "  ratedByUser = userToMovieMatrix.loc[userID][userToMovieMatrix.loc[userID] > 0].index\n",
        "  unratedMovies = weightedAverageRatings.drop(ratedByUser, errors='ignore')\n",
        "\n",
        "\n",
        "  topMovies = unratedMovies.sort_values(ascending=False)[0: num]\n",
        "  movieNames = clean_movies[clean_movies['movie_id'].isin(topMovies.index)]['title'].tolist()\n",
        "\n",
        "\n",
        "\n",
        "\n",
        "  result = pd.DataFrame({\n",
        "      'Ranking': range(1, num+1),\n",
        "      'Movie Name': movieNames\n",
        "\n",
        "  })\n",
        "  result.set_index('Ranking', inplace = True)\n",
        "  return result;\n",
        "\n",
        "\n",
        "\n",
        "print(recommend_movies_for_user(11, 5))\n",
        "print(recommend_movies_for_user(10, 5))\n",
        "print(recommend_movies_for_user(9, 10))\n",
        "\n"
      ],
      "metadata": {
        "id": "rbENugJ5cUpo",
        "colab": {
          "base_uri": "https://localhost:8080/"
        },
        "outputId": "3645ed92-03cb-45b9-f05c-9bc255bb6c2b"
      },
      "execution_count": 54,
      "outputs": [
        {
          "output_type": "stream",
          "name": "stdout",
          "text": [
            "                              Movie Name\n",
            "Ranking                                 \n",
            "1                       Toy Story (1995)\n",
            "2                       Star Wars (1977)\n",
            "3        Empire Strikes Back, The (1980)\n",
            "4         Raiders of the Lost Ark (1981)\n",
            "5              Return of the Jedi (1983)\n",
            "                              Movie Name\n",
            "Ranking                                 \n",
            "1                   Fugitive, The (1993)\n",
            "2        Empire Strikes Back, The (1980)\n",
            "3              Return of the Jedi (1983)\n",
            "4              Back to the Future (1985)\n",
            "5                Schindler's List (1993)\n",
            "                               Movie Name\n",
            "Ranking                                  \n",
            "1                        Toy Story (1995)\n",
            "2                     Pulp Fiction (1994)\n",
            "3        Silence of the Lambs, The (1991)\n",
            "4                            Fargo (1996)\n",
            "5                   Godfather, The (1972)\n",
            "6         Empire Strikes Back, The (1980)\n",
            "7          Raiders of the Lost Ark (1981)\n",
            "8               Return of the Jedi (1983)\n",
            "9                          Contact (1997)\n",
            "10                          Scream (1996)\n"
          ]
        }
      ]
    },
    {
      "cell_type": "markdown",
      "source": [
        "## Code the function here## **Item-Based Collaborative Filtering Recommender System**"
      ],
      "metadata": {
        "id": "MIN3XqC0eUAu"
      }
    },
    {
      "cell_type": "markdown",
      "source": [
        "#### **Objective**\n",
        "In this task, you will implement an **item-based collaborative filtering** recommendation system using the **Movie dataset**. The goal is to recommend movies similar to a given movie based on user rating patterns."
      ],
      "metadata": {
        "id": "ytqWK-4ze2aA"
      }
    },
    {
      "cell_type": "markdown",
      "source": [
        "#### **Step 1: Import Required Libraries**\n",
        "Although we have done this part already in the previous task but just to emphasize the importance reiterrating this part.\n",
        "\n",
        "Before starting, ensure you have the necessary libraries installed. Use the following imports:\n",
        "\n",
        "```python\n",
        "import pandas as pd  # For handling data\n",
        "import numpy as np   # For numerical computations\n",
        "from sklearn.metrics.pairwise import cosine_similarity  # For computing item similarity\n",
        "```"
      ],
      "metadata": {
        "id": "Q0-HuDvffY57"
      }
    },
    {
      "cell_type": "markdown",
      "source": [
        "#### **Step 2: Compute Item-Item Similarity**\n",
        "- We will use **cosine similarity** to measure how similar each pair of movies is based on their user ratings.\n",
        "- Since `cosine_similarity` does not handle missing values (NaN), replace them with `0` before computation.\n",
        "- Unlike user-based filtering, we need to **transpose** (`.T`) the `user_movie_matrix` because we want similarity between movies (columns) instead of users (rows).\n",
        "\n",
        "##### **Instructions:**\n",
        "1. Transpose the user-movie matrix using `.T` to make movies the rows.\n",
        "2. Fill missing values with `0` using `.fillna(0)`.\n",
        "3. Compute similarity using `cosine_similarity()`.\n",
        "4. Convert the result into a **Pandas DataFrame**, with movies as both row and column labels.\n",
        "\n",
        "##### **Hint:**  \n",
        "You can achieve this using the following approach:\n",
        "\n",
        "```python\n",
        "item_similarity = cosine_similarity(user_movie_matrix.T.fillna(0))\n",
        "item_sim_df = pd.DataFrame(item_similarity, index=user_movie_matrix.columns, columns=user_movie_matrix.columns)\n",
        "```"
      ],
      "metadata": {
        "id": "b9oy7pojf19r"
      }
    },
    {
      "cell_type": "markdown",
      "source": [
        "#### **Step 3: Implement the Recommendation Function**\n",
        "Now, implement the function `recommend_movies(movie_name, num=5)` to recommend movies similar to a given movie.\n",
        "\n",
        "##### **Function Inputs:**\n",
        "- `movie_name`: The target movie for which we need recommendations.\n",
        "- `num`: The number of similar movies to recommend (default is 5).\n",
        "\n",
        "##### **Function Steps:**\n",
        "1. Find the **movie_id** corresponding to the given `movie_name` in the `movies` DataFrame.\n",
        "2. If the movie is not found, return an appropriate message.\n",
        "3. Extract the **similarity scores** for this movie from `item_sim_df`.\n",
        "4. Sort the movies in **descending order** based on similarity (excluding the movie itself).\n",
        "5. Retrieve the **top `num` similar movies**.\n",
        "6. Map **movie IDs** to their **titles** using the `movies` DataFrame.\n",
        "7. Return the results as a **Pandas DataFrame** with rankings."
      ],
      "metadata": {
        "id": "L8k80idUgDWW"
      }
    },
    {
      "cell_type": "markdown",
      "source": [
        "#### **Step 4: Return the Final Recommendation List**\n",
        "Your function should return a **DataFrame** structured as follows:\n",
        "\n",
        "| Ranking | Movie Name |\n",
        "|---------|-----------|\n",
        "| 1       | Movie A   |\n",
        "| 2       | Movie B   |\n",
        "| 3       | Movie C   |\n",
        "| 4       | Movie D   |\n",
        "| 5       | Movie E   |\n",
        "\n",
        "##### **Hint:** Your final DataFrame should be created like this:\n",
        "```python\n",
        "result_df = pd.DataFrame({\n",
        "    'ranking': range(1, num+1),\n",
        "    'movie_name': movie_names\n",
        "})\n",
        "result_df.set_index('ranking', inplace=True)\n",
        "```"
      ],
      "metadata": {
        "id": "kNRZQWQkgLPf"
      }
    },
    {
      "cell_type": "markdown",
      "source": [
        "#### **Example: Item-Based Collaborative Filtering**\n",
        "```python\n",
        "recommend_movies(\"Jurassic Park (1993)\", num=5)\n",
        "```\n",
        "**Output:**\n",
        "```\n",
        "| Ranking | Movie Name                               |\n",
        "|---------|------------------------------------------|\n",
        "| 1       | Top Gun (1986)                           |\n",
        "| 2       | Empire Strikes Back, The (1980)          |\n",
        "| 3       | Raiders of the Lost Ark (1981)           |\n",
        "| 4       | Indiana Jones and the Last Crusade (1989)|\n",
        "| 5       | Speed (1994)                             |\n"
      ],
      "metadata": {
        "id": "h-EEF0Q1gd9N"
      }
    },
    {
      "cell_type": "code",
      "source": [
        "# Code the function here\n",
        "import pandas as pd  # For handling data\n",
        "import numpy as np   # For numerical computations\n",
        "from sklearn.metrics.pairwise import cosine_similarity  # For computing item similarity\n",
        "\n",
        "item_similarity = cosine_similarity(userToMovieMatrix.T.fillna(0))\n",
        "item_sim_df = pd.DataFrame(item_similarity, index=userToMovieMatrix.columns, columns=userToMovieMatrix.columns)\n",
        "\n",
        "\n",
        "def recommend_movies(movieName, num):\n",
        "  movieID = clean_movies.loc[clean_movies['title'] == movieName]['movie_id'].tolist()\n",
        "  if (len(movieID) <= 0):\n",
        "    print(f'Movie, {movieName}, not found')\n",
        "    return;\n",
        "  movieID = movieID[0]\n",
        "\n",
        "\n",
        "  similarMovies = item_sim_df[movieID].sort_values( ascending=False).drop(movieID)\n",
        "  topMovies = similarMovies[0:num]\n",
        "\n",
        "  topMovieNames = clean_movies[clean_movies['movie_id'].isin(topMovies.index)]['title'].tolist()\n",
        "\n",
        "\n",
        "  result = pd.DataFrame({\n",
        "      'Ranking': range(1, num+1),\n",
        "      'Movie Title': topMovieNames\n",
        "  })\n",
        "  result.set_index('Ranking', inplace=True)\n",
        "  return result\n",
        "\n",
        "\n",
        "print(recommend_movies('Return of the Jedi (1983)', 5))\n",
        "print(recommend_movies('Empire Strikes Back, The (1980)', 5))\n",
        "print(recommend_movies(\"Jurassic Park (1993)\", num=5))"
      ],
      "metadata": {
        "id": "l1K79akTebWa",
        "colab": {
          "base_uri": "https://localhost:8080/"
        },
        "outputId": "30c0989d-cdf4-4f99-84e3-1c5bc529c0be"
      },
      "execution_count": 52,
      "outputs": [
        {
          "output_type": "stream",
          "name": "stdout",
          "text": [
            "                             Movie Title\n",
            "Ranking                                 \n",
            "1                       Toy Story (1995)\n",
            "2                       Star Wars (1977)\n",
            "3          Independence Day (ID4) (1996)\n",
            "4        Empire Strikes Back, The (1980)\n",
            "5         Raiders of the Lost Ark (1981)\n",
            "                                       Movie Title\n",
            "Ranking                                           \n",
            "1                                 Star Wars (1977)\n",
            "2                   Raiders of the Lost Ark (1981)\n",
            "3                           Terminator, The (1984)\n",
            "4                        Back to the Future (1985)\n",
            "5        Indiana Jones and the Last Crusade (1989)\n",
            "                                       Movie Title\n",
            "Ranking                                           \n",
            "1                                   Top Gun (1986)\n",
            "2                  Empire Strikes Back, The (1980)\n",
            "3                   Raiders of the Lost Ark (1981)\n",
            "4        Indiana Jones and the Last Crusade (1989)\n",
            "5                                     Speed (1994)\n"
          ]
        }
      ]
    },
    {
      "cell_type": "markdown",
      "source": [
        "## **Part 3: Graph-Based Recommender (Pixie-Inspired Algorithm)**"
      ],
      "metadata": {
        "id": "YhZXLz7Rh_VC"
      }
    },
    {
      "cell_type": "markdown",
      "source": [
        "### **Adjacency List**"
      ],
      "metadata": {
        "id": "u_YceL18lWlN"
      }
    },
    {
      "cell_type": "markdown",
      "source": [
        "#### **Objective**\n",
        "In this task, you will preprocess the Movie dataset and construct a **graph representation** where:\n",
        "- **Users** are connected to the movies they have rated.\n",
        "- **Movies** are connected to users who have rated them.\n",
        "  \n",
        "This graph structure will help in exploring **user-movie relationships** for recommendations."
      ],
      "metadata": {
        "id": "CFF1tUDsipIX"
      }
    },
    {
      "cell_type": "markdown",
      "source": [
        "#### **Step 1: Merge Ratings with Movie Titles**\n",
        "Since we have **movie IDs** in the ratings dataset but need human-readable movie titles, we will:\n",
        "1. Merge the `ratings` DataFrame with the `movies` DataFrame using the `'movie_id'` column.\n",
        "2. This allows each rating to be associated with a **movie title**.\n",
        "\n",
        "#### **Hint:**\n",
        "Use the following Pandas operation to merge:\n",
        "```python\n",
        "ratings = ratings.merge(movies, on='movie_id')\n",
        "```"
      ],
      "metadata": {
        "id": "-3OPInjhkUzy"
      }
    },
    {
      "cell_type": "markdown",
      "source": [
        "\n",
        "#### **Step 2: Aggregate Ratings**\n",
        "Since multiple users may rate the same movie multiple times, we:\n",
        "1. Group the dataset by `['user_id', 'movie_id', 'title']`.\n",
        "2. Compute the **mean rating** for each movie by each user.\n",
        "3. Reset the index to ensure we maintain a clean DataFrame structure.\n",
        "\n",
        "#### **Hint:**  \n",
        "Use `groupby()` and `mean()` as follows:\n",
        "```python\n",
        "ratings = ratings.groupby(['user_id', 'movie_id', 'title'])['rating'].mean().reset_index()\n",
        "```"
      ],
      "metadata": {
        "id": "3OPUXyNVkfHr"
      }
    },
    {
      "cell_type": "markdown",
      "source": [
        "#### **Step 3: Normalize Ratings**\n",
        "Since different users have different rating biases, we normalize ratings by:\n",
        "1. **Computing each user's mean rating**.\n",
        "2. **Subtracting the mean rating** from each individual rating.\n",
        "\n",
        "#### **Instructions:**\n",
        "- Use `groupby('user_id')` to group ratings by users.\n",
        "- Apply `transform(lambda x: x - x.mean())` to adjust ratings.\n",
        "\n",
        "#### **Hint:**  \n",
        "Normalize ratings using:\n",
        "```python\n",
        "ratings['rating'] = ratings.groupby('user_id')['rating'].transform(lambda x: x - x.mean())\n",
        "```\n",
        "This ensures each user’s ratings are centered around zero, making similarity calculations fairer."
      ],
      "metadata": {
        "id": "NU1fB66WkqEO"
      }
    },
    {
      "cell_type": "markdown",
      "source": [
        "#### **Step 4: Construct the Graph Representation**\n",
        "We represent the user-movie interactions as an **undirected graph** using an **adjacency list**:\n",
        "- Each **user** is a node connected to movies they rated.\n",
        "- Each **movie** is a node connected to users who rated it.\n",
        "\n",
        "#### **Graph Construction Steps:**\n",
        "1. Initialize an empty dictionary `graph = {}`.\n",
        "2. Iterate through the **ratings dataset**.\n",
        "3. For each `user_id` and `movie_id` pair:\n",
        "   - Add the movie to the user’s set of connections.\n",
        "   - Add the user to the movie’s set of connections.\n",
        "\n",
        "#### **Hint:**  \n",
        "The following code builds the graph:\n",
        "\n",
        "```python\n",
        "graph = {}\n",
        "for _, row in ratings.iterrows():\n",
        "    user, movie = row['user_id'], row['movie_id']\n",
        "    if user not in graph:\n",
        "        graph[user] = set()\n",
        "    if movie not in graph:\n",
        "        graph[movie] = set()\n",
        "    graph[user].add(movie)\n",
        "    graph[movie].add(user)\n",
        "```\n",
        "\n",
        "This results in a **bipartite graph**, where:\n",
        "- **Users** are connected to multiple movies.\n",
        "- **Movies** are connected to multiple users."
      ],
      "metadata": {
        "id": "79NB8zIWkvWP"
      }
    },
    {
      "cell_type": "markdown",
      "source": [
        "#### **Step 5: Understanding the Graph**\n",
        "- **Nodes** in the graph represent **users and movies**.\n",
        "- **Edges** exist between a user and a movie **if the user has rated the movie**.\n",
        "- This structure allows us to find **users with similar movie tastes** and **movies frequently watched together**.\n",
        "\n",
        "#### **Exploring the Graph**\n",
        "- **Find a user’s rated movies:**  \n",
        "  ```python\n",
        "  user_id = 1\n",
        "  print(graph[user_id])  # Movies rated by user 1\n",
        "  ```\n",
        "\n",
        "- **Find users who rated a movie:**  \n",
        "  ```python\n",
        "  movie_id = 50\n",
        "  print(graph[movie_id])  # Users who rated movie 50\n",
        "  ```"
      ],
      "metadata": {
        "id": "wEuVgjAAk4KV"
      }
    },
    {
      "cell_type": "code",
      "source": [
        "# Code the function here\n",
        "\n",
        "ratings = clean_ratings.merge(clean_movies, on='movie_id', how='left').drop_duplicates()\n",
        "ratings = ratings.groupby(['user_id', 'movie_id', 'title'])['rating'].mean().reset_index()\n",
        "ratings['rating'] = ratings.groupby('user_id')['rating'].transform(lambda x: x - x.mean())\n",
        "\n",
        "graph = {}\n",
        "for _, row in ratings.iterrows():\n",
        "    user, movie = row['user_id'], row['movie_id']\n",
        "    if user not in graph:\n",
        "        graph[user] = set()\n",
        "    if movie not in graph:\n",
        "        graph[movie] = set()\n",
        "    graph[user].add(movie)\n",
        "    graph[movie].add(user)\n",
        "\n",
        "def moviesRatedByUser(userID):\n",
        "  return graph[userID]\n",
        "def usersWhoRatedMovie(movieID):\n",
        "  return graph[movieID]\n",
        "\n"
      ],
      "metadata": {
        "id": "b4V2aL4DiMM4"
      },
      "execution_count": 56,
      "outputs": []
    },
    {
      "cell_type": "code",
      "source": [
        "print(moviesRatedByUser(12))\n",
        "\n",
        "print(usersWhoRatedMovie(300))"
      ],
      "metadata": {
        "colab": {
          "base_uri": "https://localhost:8080/"
        },
        "id": "Di6MA-w1Xhi9",
        "outputId": "610cf51a-3998-4cf8-a0e6-8c4053954232"
      },
      "execution_count": 57,
      "outputs": [
        {
          "output_type": "stream",
          "name": "stdout",
          "text": [
            "{1, 514, 4, 6, 7, 521, 10, 11, 522, 13, 14, 15, 16, 524, 18, 527, 532, 533, 24, 537, 538, 28, 29, 542, 543, 548, 551, 42, 43, 556, 557, 559, 560, 49, 50, 561, 566, 567, 58, 59, 60, 62, 64, 577, 69, 71, 72, 73, 583, 76, 588, 591, 592, 82, 84, 88, 601, 90, 603, 92, 605, 94, 606, 96, 97, 98, 99, 610, 613, 106, 618, 109, 110, 622, 115, 627, 117, 629, 119, 630, 121, 632, 127, 639, 640, 130, 643, 132, 133, 135, 138, 654, 143, 144, 145, 655, 151, 663, 664, 665, 666, 156, 157, 669, 159, 671, 161, 673, 168, 170, 682, 172, 684, 174, 175, 686, 177, 178, 690, 180, 693, 186, 191, 194, 195, 196, 708, 707, 710, 200, 201, 202, 203, 204, 715, 207, 213, 214, 215, 216, 727, 218, 221, 222, 735, 737, 226, 228, 233, 234, 745, 747, 238, 239, 753, 242, 754, 246, 758, 249, 250, 251, 763, 253, 256, 259, 773, 774, 264, 267, 268, 271, 272, 785, 276, 788, 279, 280, 282, 795, 796, 288, 291, 293, 805, 806, 297, 299, 300, 301, 303, 305, 308, 311, 823, 825, 314, 315, 318, 831, 833, 322, 836, 838, 327, 328, 329, 332, 844, 334, 846, 339, 851, 342, 343, 344, 345, 346, 347, 854, 862, 352, 864, 867, 868, 870, 361, 363, 875, 880, 370, 883, 372, 373, 374, 886, 889, 378, 379, 380, 381, 892, 894, 896, 385, 387, 901, 391, 392, 393, 394, 903, 908, 397, 398, 399, 910, 913, 402, 916, 405, 406, 919, 409, 924, 416, 417, 929, 421, 933, 425, 940, 429, 430, 943, 433, 435, 437, 442, 443, 445, 447, 450, 453, 454, 455, 456, 457, 458, 464, 465, 468, 471, 472, 474, 478, 480, 483, 487, 491, 493, 497, 498, 499, 503, 506}\n",
            "{2, 3, 4, 7, 11, 12, 13, 15, 16, 21, 24, 26, 29, 33, 35, 39, 40, 43, 46, 49, 56, 58, 61, 63, 64, 66, 69, 70, 74, 83, 84, 85, 86, 87, 88, 90, 91, 99, 100, 102, 103, 104, 107, 110, 112, 113, 116, 119, 121, 125, 126, 127, 128, 129, 130, 133, 134, 137, 141, 144, 145, 146, 149, 151, 155, 163, 164, 166, 168, 169, 170, 173, 177, 178, 179, 181, 186, 187, 188, 190, 191, 193, 195, 197, 198, 204, 205, 206, 210, 211, 215, 217, 220, 222, 223, 224, 229, 231, 234, 238, 239, 240, 241, 243, 245, 247, 249, 251, 252, 253, 255, 257, 258, 260, 261, 263, 264, 265, 271, 274, 275, 276, 281, 282, 284, 285, 288, 292, 293, 294, 297, 299, 300, 301, 303, 304, 305, 309, 311, 313, 317, 320, 322, 323, 324, 327, 328, 329, 332, 333, 334, 335, 345, 346, 347, 351, 353, 355, 356, 362, 375, 378, 379, 380, 384, 388, 389, 390, 391, 392, 395, 396, 400, 404, 408, 409, 410, 413, 414, 416, 418, 419, 423, 424, 425, 427, 428, 429, 430, 431, 432, 433, 435, 438, 439, 440, 441, 444, 445, 446, 447, 450, 451, 454, 455, 456, 459, 462, 464, 465, 466, 476, 478, 479, 484, 486, 487, 488, 489, 493, 494, 497, 499, 500, 502, 504, 505, 506, 507, 509, 510, 511, 515, 517, 518, 520, 521, 525, 526, 529, 531, 532, 533, 534, 535, 537, 540, 544, 546, 548, 550, 551, 552, 557, 559, 564, 569, 572, 574, 578, 580, 582, 587, 589, 591, 596, 597, 598, 602, 605, 608, 611, 612, 615, 616, 619, 620, 621, 624, 625, 627, 628, 629, 630, 633, 634, 635, 637, 639, 644, 646, 647, 652, 653, 654, 655, 656, 657, 661, 663, 666, 668, 669, 673, 674, 676, 677, 678, 682, 683, 687, 689, 692, 693, 694, 695, 697, 698, 699, 701, 702, 703, 704, 705, 708, 710, 713, 714, 716, 717, 718, 719, 721, 722, 724, 725, 729, 730, 732, 735, 740, 743, 748, 749, 750, 751, 752, 753, 755, 756, 758, 759, 760, 767, 768, 770, 772, 774, 775, 779, 780, 782, 783, 784, 787, 788, 791, 796, 797, 800, 801, 802, 803, 807, 808, 809, 810, 811, 812, 813, 816, 817, 818, 819, 827, 831, 833, 834, 838, 840, 841, 843, 844, 850, 853, 856, 857, 860, 863, 866, 867, 871, 872, 873, 875, 876, 877, 879, 880, 881, 884, 885, 889, 892, 894, 896, 898, 902, 904, 905, 906, 908, 909, 910, 915, 919, 920, 924, 926, 927, 930, 931, 935, 936, 937, 938, 940, 941, 942, 948, 1012, 1094}\n"
          ]
        }
      ]
    },
    {
      "cell_type": "markdown",
      "source": [
        "### **Implement Weighted Random Walks**"
      ],
      "metadata": {
        "id": "_ZE31gB7lImI"
      }
    },
    {
      "cell_type": "markdown",
      "source": [
        "#### **Random Walk-Based Movie Recommendation System (Weighted Pixie)**"
      ],
      "metadata": {
        "id": "yHe42rlJl9kD"
      }
    },
    {
      "cell_type": "markdown",
      "source": [
        "#### **Objective**\n",
        "In this task, you will implement a **random-walk-based recommendation algorithm** using the **Weighted Pixie** method. This technique uses a **user-movie bipartite graph** to recommend movies by simulating a random walk from a given user or movie."
      ],
      "metadata": {
        "id": "jyqptwreo-IP"
      }
    },
    {
      "cell_type": "markdown",
      "source": [
        "#### **Step 1: Import Required Libraries**\n",
        "Make sure you have the necessary libraries:\n",
        "\n",
        "```python\n",
        "import random  # For random walks\n",
        "import pandas as pd  # For handling data\n",
        "```"
      ],
      "metadata": {
        "id": "jFgyzzdCpfzu"
      }
    },
    {
      "cell_type": "markdown",
      "source": [
        "#### **Step 2: Implement the Random Walk Algorithm**\n",
        "Your task is to **simulate a random walk** from a given starting point in the **bipartite user-movie graph**.\n",
        "\n",
        "##### **Hints for Implementation**\n",
        "- Start from **either a user or a movie**.\n",
        "- At each step, **randomly move** to a connected node.\n",
        "- Keep track of **how many times each movie is visited**.\n",
        "- After completing the walk, **rank movies by visit count**."
      ],
      "metadata": {
        "id": "_FVGjhl0ppFK"
      }
    },
    {
      "cell_type": "markdown",
      "source": [
        "#### **Step 3: Implement User-Based Recommendation**\n",
        "**Hints:**\n",
        "- Check if the `user_id` exists in the `graph`.\n",
        "- Start a loop that runs for `walk_length` steps.\n",
        "- Randomly pick a **connected node** (user or movie).\n",
        "- Track how many times each **movie** is visited.\n",
        "- Sort movies by visit frequency and return the **top N**.\n",
        "\n",
        "#### **Step 4: Implement Movie-Based Recommendation**\n",
        "**Hints:**\n",
        "- Find the `movie_id` corresponding to the given `movie_name`.\n",
        "- Ensure the movie exists in the `graph`.\n",
        "- Start a random walk from that movie.\n",
        "- Follow the same **tracking and ranking** process as the user-based version.\n",
        "\n",
        "**Note:**  \n",
        "**Your task:** Implement a function `weighted_pixie_recommend(user_id, walk_length=15, num=5)` or `weighted_pixie_recommend(movie_name, walk_length=15, num=5)`.  \n",
        "**Implement either Step 3 or Step 4.**"
      ],
      "metadata": {
        "id": "E7D7Pj6trss9"
      }
    },
    {
      "cell_type": "markdown",
      "source": [
        "#### **Step 5: Running Your Recommendation System**\n",
        "Once your function is implemented, test it by calling:\n",
        "\n",
        "##### **Example: User-Based Recommendation**\n",
        "```python\n",
        "weighted_pixie_recommend(1, walk_length=15, num=5)\n",
        "```\n",
        "| Ranking | Movie Name                     |\n",
        "|---------|--------------------------------|\n",
        "| 1       | My Own Private Idaho (1991)   |\n",
        "| 2       | Aladdin (1992)                |\n",
        "| 3       | 12 Angry Men (1957)           |\n",
        "| 4       | Happy Gilmore (1996)          |\n",
        "| 5       | Copycat (1995)                |\n",
        "\n",
        "\n",
        "##### **Example: Movie-Based Recommendation**\n",
        "```python\n",
        "weighted_pixie_recommend(\"Jurassic Park (1993)\", walk_length=10, num=5)\n",
        "```\n",
        "| Ranking | Movie Name                           |\n",
        "|---------|-------------------------------------|\n",
        "| 1       | Rear Window (1954)                 |\n",
        "| 2       | Great Dictator, The (1940)         |\n",
        "| 3       | Field of Dreams (1989)             |\n",
        "| 4       | Casablanca (1942)                  |\n",
        "| 5       | Nightmare Before Christmas, The (1993) |\n"
      ],
      "metadata": {
        "id": "qxN_ibCCrCpx"
      }
    },
    {
      "cell_type": "markdown",
      "source": [
        "#### **Step 6: Understanding the Results**\n",
        "Your function should return a **DataFrame** structured as follows:\n",
        "\n",
        "| Ranking | Movie Name |\n",
        "|---------|-----------|\n",
        "| 1       | Movie A   |\n",
        "| 2       | Movie B   |\n",
        "| 3       | Movie C   |\n",
        "| 4       | Movie D   |\n",
        "| 5       | Movie E   |\n",
        "\n",
        "Each movie is ranked based on **how frequently it was visited** during the walk.\n",
        "\n",
        "#### **Experiment with Different Parameters**\n",
        "- Try different **`walk_length`** values and observe how it changes recommendations.\n",
        "- Adjust the number of recommended movies (`num`)."
      ],
      "metadata": {
        "id": "ZpUH9IzVr5aQ"
      }
    },
    {
      "cell_type": "code",
      "source": [
        "# Code the function here\n",
        "import random  # For random walks\n",
        "import pandas as pd  # For handling data\n",
        "\n",
        "\n",
        "def weighted_pixie_recommend_by_user(userID, walkLen=10, num=5):\n",
        "\n",
        "  if (userID not in graph):\n",
        "    print(f'User: {userID} does not exist')\n",
        "    return []\n",
        "\n",
        "\n",
        "  current = userID\n",
        "  counts = {}\n",
        "\n",
        "  isUserID = True #Each time we traverse, we will be alternating between a user and a movie id\n",
        "\n",
        "  for _ in range(walkLen):\n",
        "    neighbors = list(graph[current])\n",
        "\n",
        "    if not neighbors:\n",
        "      break\n",
        "\n",
        "    next = random.choice(neighbors)\n",
        "\n",
        "    if isUserID: # if we are a user then the next one is a movie\n",
        "      counts[next] = counts.get(next, 0) + 1\n",
        "\n",
        "    isUserID = not isUserID\n",
        "    current = next;\n",
        "\n",
        "  recommended = sorted(counts.items(), key=lambda x: x[1], reverse=True)[0:num] # We can sort the recommendations by their counts. (Most visited)\n",
        "  recommendedIDS = [n for n, _ in recommended]\n",
        "  recommendedNames = clean_movies.loc[recommendedIDS]['title'].tolist()\n",
        "  res = pd.DataFrame({\n",
        "      'Ranking': range(1, num+1),\n",
        "      'Title':recommendedNames\n",
        "\n",
        "  })\n",
        "  res.set_index('Ranking', inplace=True)\n",
        "\n",
        "  return res\n",
        "\n",
        "print(weighted_pixie_recommend_by_user(1, 20, 5))"
      ],
      "metadata": {
        "id": "tZD5fjG-lx3b",
        "colab": {
          "base_uri": "https://localhost:8080/"
        },
        "outputId": "64920262-4d16-4028-bf62-d69a434c0a89"
      },
      "execution_count": 73,
      "outputs": [
        {
          "output_type": "stream",
          "name": "stdout",
          "text": [
            "                                   Title\n",
            "Ranking                                 \n",
            "1                   All About Eve (1950)\n",
            "2        Replacement Killers, The (1998)\n",
            "3                    Carried Away (1996)\n",
            "4             Crossing Guard, The (1995)\n",
            "5                       Quiz Show (1994)\n"
          ]
        }
      ]
    },
    {
      "cell_type": "code",
      "source": [
        "# Code the function here\n",
        "import random  # For random walks\n",
        "import pandas as pd  # For handling data\n",
        "\n",
        "\n",
        "# This is essentially the same function as by user, just has to convert the title to an id, and adjust the starting state of the isUserID\n",
        "def weighted_pixie_recommend_by_movie(movieName, walkLen=10, num=5):\n",
        "\n",
        "  movieID = clean_movies.loc[clean_movies['title'] == movieName]['movie_id'].tolist()\n",
        "\n",
        "  if (len(movieID) <= 0):\n",
        "    print(f'Movie: {movieName} does not exist')\n",
        "    return []\n",
        "\n",
        "  movieID = movieID[0]\n",
        "\n",
        "\n",
        "\n",
        "  current = movieID\n",
        "  counts = {}\n",
        "\n",
        "  isUserID = False #Each time we traverse, we will be alternating between a user and a movie id\n",
        "\n",
        "  for _ in range(walkLen):\n",
        "    neighbors = list(graph[current])\n",
        "\n",
        "    if not neighbors:\n",
        "      break\n",
        "\n",
        "    next = random.choice(neighbors)\n",
        "\n",
        "    if isUserID: # if we are a user then the next one is a movie\n",
        "      counts[next] = counts.get(next, 0) + 1\n",
        "\n",
        "    isUserID = not isUserID\n",
        "    current = next;\n",
        "\n",
        "  recommended = sorted(counts.items(), key=lambda x: x[1], reverse=True)[0:num]\n",
        "  recommendedIDS = [n for n, _ in recommended]\n",
        "  recommendedNames = clean_movies.loc[recommendedIDS]['title'].tolist()\n",
        "  res = pd.DataFrame({\n",
        "      'Ranking': range(1, num+1),\n",
        "      'Title':recommendedNames\n",
        "\n",
        "  })\n",
        "  res.set_index('Ranking', inplace=True)\n",
        "\n",
        "  return res\n",
        "\n",
        "print(weighted_pixie_recommend_by_movie(\"Jurassic Park (1993)\", 15, 5))"
      ],
      "metadata": {
        "colab": {
          "base_uri": "https://localhost:8080/"
        },
        "id": "vnSuGXJlHrTz",
        "outputId": "79ddcd74-d9cb-4903-dcb5-bf7ab9e7105e"
      },
      "execution_count": 79,
      "outputs": [
        {
          "output_type": "stream",
          "name": "stdout",
          "text": [
            "                                     Title\n",
            "Ranking                                   \n",
            "1                      Blade Runner (1982)\n",
            "2        Nightmare on Elm Street, A (1984)\n",
            "3                  Princess Caraboo (1994)\n",
            "4              My Own Private Idaho (1991)\n",
            "5        Die Hard: With a Vengeance (1995)\n"
          ]
        }
      ]
    },
    {
      "cell_type": "markdown",
      "source": [
        "---"
      ],
      "metadata": {
        "id": "Q36Y2C7PxWO0"
      }
    },
    {
      "cell_type": "markdown",
      "source": [
        "## **Submission Requirements:**"
      ],
      "metadata": {
        "id": "9iKlQlvBtiGe"
      }
    },
    {
      "cell_type": "markdown",
      "source": [
        "To successfully complete this assignment, ensure that you submit the following:\n",
        "\n",
        "\n",
        "### **1. Jupyter Notebook Submission**\n",
        "- Submit a **fully completed Jupyter Notebook** that includes:\n",
        "  - **All implemented recommendation functions** (user-based, item-based, and random walk-based recommendations).\n",
        "  - **Code explanations** in markdown cells to describe each step.\n",
        "  - **Results and insights** from running your recommendation models.\n",
        "\n",
        "\n",
        "### **2. Explanation of Pixie-Inspired Algorithms (3-5 Paragraphs)**\n",
        "- Write a **detailed explanation** of **Pixie-inspired random walk algorithms** used for recommendations.\n",
        "- Your explanation should cover:\n",
        "  - What **Pixie-inspired recommendation systems** are.\n",
        "  - How **random walks** help in identifying relevant recommendations.\n",
        "  - Any real-world applications of such algorithms in industry.\n",
        "\n",
        "\n",
        "### **3. Report for the Submitted Notebook**\n",
        "Your report should be structured as follows:\n",
        "\n",
        "#### **Title: Movie Recommendation System Report**\n",
        "\n",
        "#### **1. Introduction**\n",
        "- Briefly introduce **movie recommendation systems** and why they are important.\n",
        "- Explain the **different approaches used** (user-based, item-based, random-walk).\n",
        "\n",
        "#### **2. Dataset Description**\n",
        "- Describe the **MovieLens 100K dataset**:\n",
        "  - Number of users, movies, and ratings.\n",
        "  - What features were used.\n",
        "  - Any preprocessing performed.\n",
        "\n",
        "#### **3. Methodology**\n",
        "- Explain the three recommendation techniques implemented:\n",
        "  - **User-based collaborative filtering** (how user similarity was calculated).\n",
        "  - **Item-based collaborative filtering** (how item similarity was determined).\n",
        "  - **Random-walk-based Pixie algorithm** (why graph-based approaches are effective).\n",
        "  \n",
        "#### **4. Implementation Details**\n",
        "- Discuss the steps taken to build the functions.\n",
        "- Describe how the **adjacency list graph** was created.\n",
        "- Explain how **random walks** were performed and how visited movies were ranked.\n",
        "\n",
        "#### **5. Results and Evaluation**\n",
        "- Present **example outputs** from each recommendation approach.\n",
        "- Compare the different methods in terms of accuracy and usefulness.\n",
        "- Discuss any **limitations** in the implementation.\n",
        "\n",
        "#### **6. Conclusion**\n",
        "- Summarize the key takeaways from the project.\n",
        "- Discuss potential improvements (e.g., **hybrid models, additional features**).\n",
        "- Suggest real-world applications of the methods used."
      ],
      "metadata": {
        "id": "NHGGedZexPs0"
      }
    },
    {
      "cell_type": "markdown",
      "source": [
        "### **Submission Instructions**"
      ],
      "metadata": {
        "id": "NWgT_Shy-vUK"
      }
    },
    {
      "cell_type": "markdown",
      "source": [
        "- Submit `.zip` file consisting of Jupyter Notebook and all the datafiles (provided) and the ones saved [i.e. `users.csv`, `movies.csv` and `ratings.csv`]. Also, include the Report and Pixie Algorithm explanation document.\n",
        "- [`Bonus 10 Points`] **Upload your Jupyter Notebook, Explanation Document, and Report** to your GitHub repository.\n",
        "- Ensure the repository is public and contains:\n",
        "  - `users.csv`, `movies.csv` and `ratings.csv` [These are the Dataframes which were created in part 1. Save and export them as a `.csv` file]\n",
        "  - `Movie_Recommendation.ipynb`\n",
        "  - `Pixie_Algorithm_Explanation.pdf` or `.md`\n",
        "  - `Recommendation_Report.pdf` or `.md`\n",
        "- **Submit the GitHub repository link in the cell below.**\n",
        "\n",
        "\n",
        "#### **Example Submission Format**\n",
        "```text\n",
        "GitHub Repository: https://github.com/username/Movie-Recommendation\n",
        "```"
      ],
      "metadata": {
        "id": "Nuz1s-Vh_L55"
      }
    },
    {
      "cell_type": "code",
      "source": [
        "# Submit the Github Link here:\n"
      ],
      "metadata": {
        "id": "jol9nRDau6fZ"
      },
      "execution_count": null,
      "outputs": []
    },
    {
      "cell_type": "markdown",
      "source": [
        "### **Grading Rubric: ITCS 6162 - Data Mining Assignment**"
      ],
      "metadata": {
        "id": "oQ6aluK-0ZMa"
      }
    },
    {
      "cell_type": "markdown",
      "source": [
        "\n",
        "| **Category**                              | **Criteria**                                                     | **Points** |\n",
        "|-------------------------------------------|----------------------------------------------------------------|------------|\n",
        "| **Part 1: Exploring and Cleaning Data (15 pts)**  | Properly loads `u.user`, `u.movies`, and `u.item` datasets into DataFrames | 5 |\n",
        "|                                           | Handles missing values, duplicates, and inconsistencies appropriately | 5 |\n",
        "|                                           | Saves the cleaned datasets into CSV files: `users.csv`, `movies.csv`, `ratings.csv` | 5 |\n",
        "| **Part 2: Collaborative Filtering-Based Recommendation (30 pts)** | Implements user-based collaborative filtering correctly | 10 |\n",
        "|                                           | Implements item-based collaborative filtering correctly | 10 |\n",
        "|                                           | Computes similarity measures accurately and provides valid recommendations | 10 |\n",
        "| **Part 3: Graph-Based Recommender (Pixie-Inspired Algorithm) (35 pts)** | Constructs adjacency lists properly from user-movie interactions | 10 |\n",
        "|                                           | Implements weighted random walk-based recommendation correctly | 15 |\n",
        "|                                           | Explains and justifies the algorithm design choices (Pixie-inspired) | 10 |\n",
        "| **Code Quality & Documentation (10 pts)** | Code is well-structured, efficient, and follows best practices | 5 |\n",
        "|                                           | Markdown explanations and comments are clear and enhance understanding | 5 |\n",
        "| **Results & Interpretation (5 pts)**      | Provides meaningful insights from the recommendation system's output | 5 |\n",
        "| **Submission & Report (5 pts)**          | Submits all required files in the correct format (ZIP file with Jupyter notebook, processed CSV files, and project report) | 5 |\n",
        "| **Total**                                 |                              | 100 |\n",
        "\n",
        "#### **Bonus (10 pts)**\n",
        "| **Category**                              | **Criteria**                                                     | **Points** |\n",
        "|-------------------------------------------|----------------------------------------------------------------|------------|\n",
        "| **GitHub Submission**                     | Provides a well-documented GitHub repository with CSV files, a structured README, and a properly formatted Jupyter Notebook | 10 |"
      ],
      "metadata": {
        "id": "sNAfeIzA_fCq"
      }
    }
  ]
}